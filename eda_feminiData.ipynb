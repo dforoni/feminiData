{
 "cells": [
  {
   "cell_type": "markdown",
   "id": "042a8e7a",
   "metadata": {},
   "source": [
    "# <font color='gray'> Bibliotecas necessárias\n",
    "---"
   ]
  },
  {
   "cell_type": "code",
   "execution_count": 1,
   "id": "11057064-c2b0-458b-97e9-902512afdb80",
   "metadata": {},
   "outputs": [],
   "source": [
    "import requests\n",
    "from io import BytesIO\n",
    "import polars as pl\n",
    "import pandas as pd"
   ]
  },
  {
   "cell_type": "markdown",
   "id": "c257317e",
   "metadata": {},
   "source": [
    "# <font color='gray'> Carregando os dados\n",
    "----\n",
    "\n",
    "Este projeto utiliza dados do Sistema de Informações sobre Mortalidade (SIM) do [SIM - DataSUS](https://opendatasus.saude.gov.br/pt_BR/dataset/sim), disponível no OpenDataSUS. O SIM é a principal base de dados de óbitos no Brasil e reúne informações detalhadas sobre mortes registradas no país, incluindo causa básica do óbito, características da vítima e circunstâncias da morte.\n",
    "\n",
    "Iniciamos as análises com dados de 2023."
   ]
  },
  {
   "cell_type": "code",
   "execution_count": 2,
   "id": "ae146bb8",
   "metadata": {},
   "outputs": [
    {
     "name": "stdout",
     "output_type": "stream",
     "text": [
      "Linhas: 1465610, Colunas: 86\n"
     ]
    }
   ],
   "source": [
    "# URL do arquivo CSV\n",
    "url = \"https://s3.sa-east-1.amazonaws.com/ckan.saude.gov.br/SIM/DO23OPEN.csv\"\n",
    "\n",
    "# Faz o download do arquivo\n",
    "response = requests.get(url)\n",
    "response.raise_for_status()  # Garante que a requisição foi bem-sucedida\n",
    "\n",
    "# Carrega o CSV diretamente para o Polars\n",
    "df = pl.read_csv(\n",
    "    BytesIO(response.content),\n",
    "    separator=\";\",  # Define o delimitador correto\n",
    "    quote_char='\"',  # Considera aspas como parte do valor\n",
    "    encoding=\"utf8\",\n",
    "    ignore_errors=True  # Ignora linhas problemáticas (opcional)\n",
    ")\n",
    "print(f\"Linhas: {df.height}, Colunas: {df.width}\")\n"
   ]
  },
  {
   "cell_type": "code",
   "execution_count": 3,
   "id": "62327fd2",
   "metadata": {},
   "outputs": [
    {
     "data": {
      "text/html": [
       "<div><style>\n",
       ".dataframe > thead > tr,\n",
       ".dataframe > tbody > tr {\n",
       "  text-align: right;\n",
       "  white-space: pre-wrap;\n",
       "}\n",
       "</style>\n",
       "<small>shape: (1_465_610, 86)</small><table border=\"1\" class=\"dataframe\"><thead><tr><th>contador</th><th>ORIGEM</th><th>TIPOBITO</th><th>DTOBITO</th><th>HORAOBITO</th><th>NATURAL</th><th>CODMUNNATU</th><th>DTNASC</th><th>IDADE</th><th>SEXO</th><th>RACACOR</th><th>ESTCIV</th><th>ESC</th><th>ESC2010</th><th>SERIESCFAL</th><th>OCUP</th><th>CODMUNRES</th><th>LOCOCOR</th><th>CODESTAB</th><th>CODMUNOCOR</th><th>IDADEMAE</th><th>ESCMAE</th><th>ESCMAE2010</th><th>SERIESCMAE</th><th>OCUPMAE</th><th>QTDFILVIVO</th><th>QTDFILMORT</th><th>GRAVIDEZ</th><th>SEMAGESTAC</th><th>GESTACAO</th><th>PARTO</th><th>OBITOPARTO</th><th>PESO</th><th>TPMORTEOCO</th><th>OBITOGRAV</th><th>OBITOPUERP</th><th>ASSISTMED</th><th>&hellip;</th><th>CIRCOBITO</th><th>ACIDTRAB</th><th>FONTE</th><th>NUMEROLOTE</th><th>DTINVESTIG</th><th>DTCADASTRO</th><th>ATESTANTE</th><th>STCODIFICA</th><th>CODIFICADO</th><th>VERSAOSIST</th><th>VERSAOSCB</th><th>FONTEINV</th><th>DTRECEBIM</th><th>ATESTADO</th><th>DTRECORIGA</th><th>OPOR_DO</th><th>CAUSAMAT</th><th>ESCMAEAGR1</th><th>ESCFALAGR1</th><th>STDOEPIDEM</th><th>STDONOVA</th><th>DIFDATA</th><th>NUDIASOBCO</th><th>DTCADINV</th><th>TPOBITOCOR</th><th>DTCONINV</th><th>FONTES</th><th>TPRESGINFO</th><th>TPNIVELINV</th><th>DTCADINF</th><th>MORTEPARTO</th><th>DTCONCASO</th><th>ALTCAUSA</th><th>CAUSABAS_O</th><th>TPPOS</th><th>TP_ALTERA</th><th>CB_ALT</th></tr><tr><td>i64</td><td>i64</td><td>i64</td><td>i64</td><td>i64</td><td>i64</td><td>i64</td><td>i64</td><td>i64</td><td>i64</td><td>i64</td><td>i64</td><td>i64</td><td>i64</td><td>i64</td><td>i64</td><td>i64</td><td>i64</td><td>i64</td><td>i64</td><td>str</td><td>i64</td><td>i64</td><td>str</td><td>str</td><td>i64</td><td>i64</td><td>i64</td><td>i64</td><td>i64</td><td>i64</td><td>i64</td><td>i64</td><td>i64</td><td>i64</td><td>i64</td><td>i64</td><td>&hellip;</td><td>i64</td><td>i64</td><td>i64</td><td>i64</td><td>i64</td><td>i64</td><td>i64</td><td>str</td><td>str</td><td>str</td><td>f64</td><td>i64</td><td>i64</td><td>str</td><td>i64</td><td>i64</td><td>str</td><td>i64</td><td>i64</td><td>i64</td><td>i64</td><td>i64</td><td>i64</td><td>i64</td><td>i64</td><td>i64</td><td>str</td><td>str</td><td>str</td><td>i64</td><td>i64</td><td>i64</td><td>i64</td><td>str</td><td>str</td><td>str</td><td>str</td></tr></thead><tbody><tr><td>1</td><td>1</td><td>2</td><td>14022023</td><td>930</td><td>833</td><td>330270</td><td>10071954</td><td>468</td><td>1</td><td>4</td><td>1</td><td>2</td><td>1</td><td>null</td><td>715210</td><td>330190</td><td>3</td><td>null</td><td>330190</td><td>null</td><td>null</td><td>null</td><td>null</td><td>null</td><td>null</td><td>null</td><td>null</td><td>null</td><td>null</td><td>null</td><td>null</td><td>null</td><td>null</td><td>null</td><td>null</td><td>9</td><td>&hellip;</td><td>null</td><td>null</td><td>null</td><td>20230018</td><td>null</td><td>23022023</td><td>5</td><td>&quot;S&quot;</td><td>&quot;S&quot;</td><td>&quot;3.2.30&quot;</td><td>3.4</td><td>null</td><td>27022023</td><td>&quot;R99/I10&quot;</td><td>27022023</td><td>13</td><td>null</td><td>null</td><td>10</td><td>0</td><td>1</td><td>13</td><td>null</td><td>null</td><td>null</td><td>null</td><td>null</td><td>null</td><td>null</td><td>null</td><td>null</td><td>null</td><td>null</td><td>&quot;I10&quot;</td><td>null</td><td>null</td><td>null</td></tr><tr><td>2</td><td>1</td><td>2</td><td>14022023</td><td>1730</td><td>822</td><td>221110</td><td>12091956</td><td>466</td><td>1</td><td>4</td><td>2</td><td>4</td><td>3</td><td>null</td><td>21210</td><td>221100</td><td>1</td><td>2323281</td><td>221100</td><td>null</td><td>null</td><td>null</td><td>null</td><td>null</td><td>null</td><td>null</td><td>null</td><td>null</td><td>null</td><td>null</td><td>null</td><td>null</td><td>null</td><td>null</td><td>null</td><td>1</td><td>&hellip;</td><td>null</td><td>null</td><td>null</td><td>20230028</td><td>null</td><td>17022023</td><td>5</td><td>&quot;S&quot;</td><td>&quot;S&quot;</td><td>&quot;3.2.30&quot;</td><td>3.4</td><td>null</td><td>17022023</td><td>&quot;R578/I619/I678&quot;</td><td>17022023</td><td>3</td><td>null</td><td>null</td><td>12</td><td>0</td><td>1</td><td>3</td><td>null</td><td>null</td><td>null</td><td>null</td><td>null</td><td>null</td><td>null</td><td>null</td><td>null</td><td>null</td><td>null</td><td>&quot;I678&quot;</td><td>null</td><td>null</td><td>null</td></tr><tr><td>3</td><td>1</td><td>2</td><td>14022023</td><td>500</td><td>822</td><td>220790</td><td>10011953</td><td>470</td><td>2</td><td>null</td><td>3</td><td>9</td><td>9</td><td>null</td><td>999992</td><td>220790</td><td>1</td><td>2726971</td><td>221100</td><td>null</td><td>null</td><td>null</td><td>null</td><td>null</td><td>null</td><td>null</td><td>null</td><td>null</td><td>null</td><td>null</td><td>null</td><td>null</td><td>null</td><td>null</td><td>null</td><td>1</td><td>&hellip;</td><td>null</td><td>null</td><td>null</td><td>20230028</td><td>null</td><td>17022023</td><td>5</td><td>&quot;S&quot;</td><td>&quot;S&quot;</td><td>&quot;3.2.30&quot;</td><td>3.4</td><td>null</td><td>17022023</td><td>&quot;A419/K750*E149 I10&quot;</td><td>17022023</td><td>3</td><td>null</td><td>null</td><td>9</td><td>0</td><td>1</td><td>3</td><td>null</td><td>null</td><td>null</td><td>null</td><td>null</td><td>null</td><td>null</td><td>null</td><td>null</td><td>null</td><td>null</td><td>&quot;K750&quot;</td><td>null</td><td>null</td><td>null</td></tr><tr><td>4</td><td>1</td><td>2</td><td>14022023</td><td>2235</td><td>823</td><td>231180</td><td>15121943</td><td>479</td><td>2</td><td>1</td><td>2</td><td>4</td><td>3</td><td>null</td><td>763010</td><td>230440</td><td>1</td><td>2497654</td><td>230440</td><td>null</td><td>null</td><td>null</td><td>null</td><td>null</td><td>null</td><td>null</td><td>null</td><td>null</td><td>null</td><td>null</td><td>null</td><td>null</td><td>null</td><td>null</td><td>null</td><td>1</td><td>&hellip;</td><td>null</td><td>null</td><td>null</td><td>20230007</td><td>23022023</td><td>15022023</td><td>1</td><td>&quot;S&quot;</td><td>&quot;S&quot;</td><td>&quot;3.2.30&quot;</td><td>null</td><td>3</td><td>9032023</td><td>&quot;I611*J189&quot;</td><td>2032023</td><td>16</td><td>null</td><td>null</td><td>12</td><td>0</td><td>1</td><td>23</td><td>null</td><td>null</td><td>null</td><td>null</td><td>null</td><td>null</td><td>null</td><td>null</td><td>null</td><td>null</td><td>null</td><td>&quot;I64&quot;</td><td>&quot;S&quot;</td><td>null</td><td>null</td></tr><tr><td>5</td><td>1</td><td>2</td><td>14022023</td><td>940</td><td>841</td><td>411350</td><td>9041973</td><td>449</td><td>2</td><td>4</td><td>1</td><td>1</td><td>0</td><td>null</td><td>999992</td><td>510515</td><td>2</td><td>7050577</td><td>510515</td><td>null</td><td>null</td><td>null</td><td>null</td><td>null</td><td>null</td><td>null</td><td>null</td><td>null</td><td>null</td><td>null</td><td>null</td><td>null</td><td>8</td><td>2</td><td>3</td><td>1</td><td>&hellip;</td><td>null</td><td>null</td><td>null</td><td>20240057</td><td>14022023</td><td>14022023</td><td>1</td><td>&quot;S&quot;</td><td>&quot;S&quot;</td><td>&quot;3.2.30&quot;</td><td>3.4</td><td>3</td><td>30102024</td><td>&quot;J960/C189&quot;</td><td>16022023</td><td>2</td><td>null</td><td>null</td><td>0</td><td>0</td><td>1</td><td>624</td><td>3</td><td>17022023</td><td>9</td><td>17022023</td><td>null</td><td>null</td><td>&quot;M&quot;</td><td>null</td><td>null</td><td>null</td><td>null</td><td>&quot;C189&quot;</td><td>&quot;S&quot;</td><td>null</td><td>null</td></tr><tr><td>&hellip;</td><td>&hellip;</td><td>&hellip;</td><td>&hellip;</td><td>&hellip;</td><td>&hellip;</td><td>&hellip;</td><td>&hellip;</td><td>&hellip;</td><td>&hellip;</td><td>&hellip;</td><td>&hellip;</td><td>&hellip;</td><td>&hellip;</td><td>&hellip;</td><td>&hellip;</td><td>&hellip;</td><td>&hellip;</td><td>&hellip;</td><td>&hellip;</td><td>&hellip;</td><td>&hellip;</td><td>&hellip;</td><td>&hellip;</td><td>&hellip;</td><td>&hellip;</td><td>&hellip;</td><td>&hellip;</td><td>&hellip;</td><td>&hellip;</td><td>&hellip;</td><td>&hellip;</td><td>&hellip;</td><td>&hellip;</td><td>&hellip;</td><td>&hellip;</td><td>&hellip;</td><td>&hellip;</td><td>&hellip;</td><td>&hellip;</td><td>&hellip;</td><td>&hellip;</td><td>&hellip;</td><td>&hellip;</td><td>&hellip;</td><td>&hellip;</td><td>&hellip;</td><td>&hellip;</td><td>&hellip;</td><td>&hellip;</td><td>&hellip;</td><td>&hellip;</td><td>&hellip;</td><td>&hellip;</td><td>&hellip;</td><td>&hellip;</td><td>&hellip;</td><td>&hellip;</td><td>&hellip;</td><td>&hellip;</td><td>&hellip;</td><td>&hellip;</td><td>&hellip;</td><td>&hellip;</td><td>&hellip;</td><td>&hellip;</td><td>&hellip;</td><td>&hellip;</td><td>&hellip;</td><td>&hellip;</td><td>&hellip;</td><td>&hellip;</td><td>&hellip;</td><td>&hellip;</td><td>&hellip;</td></tr><tr><td>1465606</td><td>1</td><td>2</td><td>30112023</td><td>2100</td><td>816</td><td>160050</td><td>1042023</td><td>307</td><td>1</td><td>5</td><td>null</td><td>null</td><td>null</td><td>null</td><td>null</td><td>160050</td><td>6</td><td>null</td><td>160050</td><td>&quot;29&quot;</td><td>3</td><td>1</td><td>&quot;4&quot;</td><td>&quot;999992&quot;</td><td>1</td><td>0</td><td>1</td><td>null</td><td>null</td><td>null</td><td>3</td><td>null</td><td>null</td><td>null</td><td>null</td><td>2</td><td>&hellip;</td><td>null</td><td>null</td><td>null</td><td>null</td><td>null</td><td>8122023</td><td>1</td><td>&quot;N&quot;</td><td>&quot;N&quot;</td><td>&quot;2...0&quot;</td><td>null</td><td>null</td><td>null</td><td>&quot;R99&quot;</td><td>8122023</td><td>8</td><td>null</td><td>2</td><td>null</td><td>0</td><td>1</td><td>8</td><td>null</td><td>null</td><td>null</td><td>null</td><td>&quot;SXXSXX&quot;</td><td>null</td><td>null</td><td>10062024</td><td>3</td><td>26052024</td><td>2</td><td>null</td><td>null</td><td>null</td><td>null</td></tr><tr><td>1465607</td><td>1</td><td>2</td><td>12122023</td><td>1220</td><td>815</td><td>150060</td><td>23101987</td><td>436</td><td>1</td><td>5</td><td>null</td><td>3</td><td>2</td><td>null</td><td>null</td><td>150060</td><td>3</td><td>null</td><td>150060</td><td>null</td><td>null</td><td>null</td><td>null</td><td>null</td><td>null</td><td>null</td><td>null</td><td>null</td><td>null</td><td>null</td><td>null</td><td>null</td><td>null</td><td>null</td><td>null</td><td>2</td><td>&hellip;</td><td>null</td><td>null</td><td>null</td><td>null</td><td>27032024</td><td>3012024</td><td>null</td><td>&quot;N&quot;</td><td>&quot;N&quot;</td><td>&quot;2...0&quot;</td><td>null</td><td>8</td><td>null</td><td>&quot;R98&quot;</td><td>3012024</td><td>22</td><td>null</td><td>null</td><td>11</td><td>0</td><td>1</td><td>22</td><td>null</td><td>null</td><td>null</td><td>null</td><td>null</td><td>null</td><td>null</td><td>null</td><td>null</td><td>null</td><td>null</td><td>null</td><td>null</td><td>null</td><td>null</td></tr><tr><td>1465608</td><td>1</td><td>2</td><td>22122023</td><td>1734</td><td>815</td><td>150060</td><td>5112023</td><td>301</td><td>1</td><td>5</td><td>null</td><td>null</td><td>null</td><td>null</td><td>null</td><td>150060</td><td>6</td><td>null</td><td>150060</td><td>&quot;25&quot;</td><td>1</td><td>0</td><td>null</td><td>&quot;612005&quot;</td><td>1</td><td>0</td><td>1</td><td>40</td><td>5</td><td>1</td><td>3</td><td>3018</td><td>null</td><td>null</td><td>null</td><td>2</td><td>&hellip;</td><td>null</td><td>null</td><td>null</td><td>null</td><td>15042024</td><td>3012024</td><td>null</td><td>&quot;N&quot;</td><td>&quot;N&quot;</td><td>&quot;2...0&quot;</td><td>null</td><td>8</td><td>null</td><td>&quot;R98&quot;</td><td>3012024</td><td>12</td><td>null</td><td>0</td><td>null</td><td>0</td><td>1</td><td>12</td><td>null</td><td>null</td><td>null</td><td>null</td><td>&quot;XXXXXX&quot;</td><td>null</td><td>null</td><td>15042024</td><td>3</td><td>20032024</td><td>1</td><td>null</td><td>null</td><td>null</td><td>null</td></tr><tr><td>1465609</td><td>1</td><td>2</td><td>22122023</td><td>2030</td><td>813</td><td>130140</td><td>1012008</td><td>415</td><td>2</td><td>5</td><td>null</td><td>1</td><td>0</td><td>null</td><td>null</td><td>130140</td><td>6</td><td>null</td><td>130140</td><td>null</td><td>null</td><td>null</td><td>null</td><td>null</td><td>null</td><td>null</td><td>null</td><td>null</td><td>null</td><td>null</td><td>null</td><td>null</td><td>9</td><td>2</td><td>3</td><td>2</td><td>&hellip;</td><td>2</td><td>null</td><td>3</td><td>null</td><td>2022024</td><td>17062024</td><td>5</td><td>&quot;N&quot;</td><td>&quot;N&quot;</td><td>&quot;2...0&quot;</td><td>null</td><td>8</td><td>null</td><td>&quot;X709&quot;</td><td>17062024</td><td>178</td><td>null</td><td>null</td><td>0</td><td>0</td><td>1</td><td>178</td><td>94</td><td>21062024</td><td>9</td><td>25032024</td><td>null</td><td>null</td><td>&quot;E&quot;</td><td>null</td><td>null</td><td>null</td><td>null</td><td>null</td><td>null</td><td>null</td><td>null</td></tr><tr><td>1465610</td><td>1</td><td>2</td><td>31122023</td><td>null</td><td>851</td><td>510385</td><td>17122023</td><td>214</td><td>2</td><td>5</td><td>null</td><td>null</td><td>null</td><td>null</td><td>null</td><td>510385</td><td>6</td><td>null</td><td>510385</td><td>&quot;27&quot;</td><td>3</td><td>2</td><td>&quot;5&quot;</td><td>&quot;791120&quot;</td><td>3</td><td>0</td><td>1</td><td>35</td><td>4</td><td>1</td><td>9</td><td>3300</td><td>null</td><td>null</td><td>null</td><td>2</td><td>&hellip;</td><td>null</td><td>null</td><td>null</td><td>null</td><td>4022024</td><td>22022024</td><td>1</td><td>&quot;N&quot;</td><td>&quot;N&quot;</td><td>&quot;2...0&quot;</td><td>null</td><td>8</td><td>null</td><td>&quot;R95&quot;</td><td>22022024</td><td>53</td><td>null</td><td>3</td><td>null</td><td>0</td><td>1</td><td>53</td><td>null</td><td>null</td><td>null</td><td>null</td><td>&quot;SXXSXX&quot;</td><td>null</td><td>null</td><td>26042024</td><td>3</td><td>4022024</td><td>2</td><td>null</td><td>null</td><td>null</td><td>null</td></tr></tbody></table></div>"
      ],
      "text/plain": [
       "shape: (1_465_610, 86)\n",
       "┌──────────┬────────┬──────────┬──────────┬───┬────────────┬───────┬───────────┬────────┐\n",
       "│ contador ┆ ORIGEM ┆ TIPOBITO ┆ DTOBITO  ┆ … ┆ CAUSABAS_O ┆ TPPOS ┆ TP_ALTERA ┆ CB_ALT │\n",
       "│ ---      ┆ ---    ┆ ---      ┆ ---      ┆   ┆ ---        ┆ ---   ┆ ---       ┆ ---    │\n",
       "│ i64      ┆ i64    ┆ i64      ┆ i64      ┆   ┆ str        ┆ str   ┆ str       ┆ str    │\n",
       "╞══════════╪════════╪══════════╪══════════╪═══╪════════════╪═══════╪═══════════╪════════╡\n",
       "│ 1        ┆ 1      ┆ 2        ┆ 14022023 ┆ … ┆ I10        ┆ null  ┆ null      ┆ null   │\n",
       "│ 2        ┆ 1      ┆ 2        ┆ 14022023 ┆ … ┆ I678       ┆ null  ┆ null      ┆ null   │\n",
       "│ 3        ┆ 1      ┆ 2        ┆ 14022023 ┆ … ┆ K750       ┆ null  ┆ null      ┆ null   │\n",
       "│ 4        ┆ 1      ┆ 2        ┆ 14022023 ┆ … ┆ I64        ┆ S     ┆ null      ┆ null   │\n",
       "│ 5        ┆ 1      ┆ 2        ┆ 14022023 ┆ … ┆ C189       ┆ S     ┆ null      ┆ null   │\n",
       "│ …        ┆ …      ┆ …        ┆ …        ┆ … ┆ …          ┆ …     ┆ …         ┆ …      │\n",
       "│ 1465606  ┆ 1      ┆ 2        ┆ 30112023 ┆ … ┆ null       ┆ null  ┆ null      ┆ null   │\n",
       "│ 1465607  ┆ 1      ┆ 2        ┆ 12122023 ┆ … ┆ null       ┆ null  ┆ null      ┆ null   │\n",
       "│ 1465608  ┆ 1      ┆ 2        ┆ 22122023 ┆ … ┆ null       ┆ null  ┆ null      ┆ null   │\n",
       "│ 1465609  ┆ 1      ┆ 2        ┆ 22122023 ┆ … ┆ null       ┆ null  ┆ null      ┆ null   │\n",
       "│ 1465610  ┆ 1      ┆ 2        ┆ 31122023 ┆ … ┆ null       ┆ null  ┆ null      ┆ null   │\n",
       "└──────────┴────────┴──────────┴──────────┴───┴────────────┴───────┴───────────┴────────┘"
      ]
     },
     "execution_count": 3,
     "metadata": {},
     "output_type": "execute_result"
    }
   ],
   "source": [
    "# dados \n",
    "df"
   ]
  },
  {
   "cell_type": "markdown",
   "id": "fa3b1767",
   "metadata": {},
   "source": [
    "# <font color='gray'> Análise Exploratória dos Dados\n",
    "---"
   ]
  },
  {
   "cell_type": "code",
   "execution_count": 4,
   "id": "55efc7ff",
   "metadata": {},
   "outputs": [
    {
     "name": "stderr",
     "output_type": "stream",
     "text": [
      "/var/folders/vq/1x_09x1d4hgbd7rj4jkxml6r0000gn/T/ipykernel_4951/1540288920.py:5: DeprecationWarning: `DataFrame.melt` is deprecated. Use `unpivot` instead, with `index` instead of `id_vars` and `on` instead of `value_vars`\n",
      "  perc_nulos_transposto = perc_nulos.melt()\n"
     ]
    },
    {
     "data": {
      "text/plain": [
       "['SERIESCFAL',\n",
       " 'IDADEMAE',\n",
       " 'ESCMAE',\n",
       " 'ESCMAE2010',\n",
       " 'SERIESCMAE',\n",
       " 'OCUPMAE',\n",
       " 'QTDFILVIVO',\n",
       " 'QTDFILMORT',\n",
       " 'GRAVIDEZ',\n",
       " 'SEMAGESTAC',\n",
       " 'GESTACAO',\n",
       " 'PARTO',\n",
       " 'OBITOPARTO',\n",
       " 'PESO',\n",
       " 'TPMORTEOCO',\n",
       " 'OBITOGRAV',\n",
       " 'OBITOPUERP',\n",
       " 'EXAME',\n",
       " 'CIRURGIA',\n",
       " 'LINHAD',\n",
       " 'CB_PRE',\n",
       " 'COMUNSVOIM',\n",
       " 'CIRCOBITO',\n",
       " 'ACIDTRAB',\n",
       " 'FONTE',\n",
       " 'DTINVESTIG',\n",
       " 'FONTEINV',\n",
       " 'CAUSAMAT',\n",
       " 'ESCMAEAGR1',\n",
       " 'NUDIASOBCO',\n",
       " 'DTCADINV',\n",
       " 'TPOBITOCOR',\n",
       " 'DTCONINV',\n",
       " 'FONTES',\n",
       " 'TPRESGINFO',\n",
       " 'TPNIVELINV',\n",
       " 'DTCADINF',\n",
       " 'MORTEPARTO',\n",
       " 'DTCONCASO',\n",
       " 'ALTCAUSA',\n",
       " 'TP_ALTERA',\n",
       " 'CB_ALT']"
      ]
     },
     "execution_count": 4,
     "metadata": {},
     "output_type": "execute_result"
    }
   ],
   "source": [
    "# Calculando a porcentagem de nulos por coluna\n",
    "perc_nulos = (df.null_count() / df.height) * 100\n",
    "\n",
    "# Transpondo as colunas para linhas (usando melt para reestruturar)\n",
    "perc_nulos_transposto = perc_nulos.melt()\n",
    "\n",
    "# Exibindo as colunas que contém dados nulos a partir de 60%\n",
    "lista_col = perc_nulos_transposto.filter(pl.col('value') > 60)[\"variable\"].to_list()\n",
    "lista_col"
   ]
  },
  {
   "cell_type": "code",
   "execution_count": 5,
   "id": "6163fbe3",
   "metadata": {},
   "outputs": [
    {
     "data": {
      "text/html": [
       "<div><style>\n",
       ".dataframe > thead > tr,\n",
       ".dataframe > tbody > tr {\n",
       "  text-align: right;\n",
       "  white-space: pre-wrap;\n",
       "}\n",
       "</style>\n",
       "<small>shape: (1_465_610, 44)</small><table border=\"1\" class=\"dataframe\"><thead><tr><th>contador</th><th>ORIGEM</th><th>TIPOBITO</th><th>DTOBITO</th><th>HORAOBITO</th><th>NATURAL</th><th>CODMUNNATU</th><th>DTNASC</th><th>IDADE</th><th>SEXO</th><th>RACACOR</th><th>ESTCIV</th><th>ESC</th><th>ESC2010</th><th>OCUP</th><th>CODMUNRES</th><th>LOCOCOR</th><th>CODESTAB</th><th>CODMUNOCOR</th><th>ASSISTMED</th><th>NECROPSIA</th><th>LINHAA</th><th>LINHAB</th><th>LINHAC</th><th>LINHAII</th><th>CAUSABAS</th><th>DTATESTADO</th><th>NUMEROLOTE</th><th>DTCADASTRO</th><th>ATESTANTE</th><th>STCODIFICA</th><th>CODIFICADO</th><th>VERSAOSIST</th><th>VERSAOSCB</th><th>DTRECEBIM</th><th>ATESTADO</th><th>DTRECORIGA</th><th>OPOR_DO</th><th>ESCFALAGR1</th><th>STDOEPIDEM</th><th>STDONOVA</th><th>DIFDATA</th><th>CAUSABAS_O</th><th>TPPOS</th></tr><tr><td>i64</td><td>i64</td><td>i64</td><td>i64</td><td>i64</td><td>i64</td><td>i64</td><td>i64</td><td>i64</td><td>i64</td><td>i64</td><td>i64</td><td>i64</td><td>i64</td><td>i64</td><td>i64</td><td>i64</td><td>i64</td><td>i64</td><td>i64</td><td>i64</td><td>str</td><td>str</td><td>str</td><td>str</td><td>str</td><td>i64</td><td>i64</td><td>i64</td><td>i64</td><td>str</td><td>str</td><td>str</td><td>f64</td><td>i64</td><td>str</td><td>i64</td><td>i64</td><td>i64</td><td>i64</td><td>i64</td><td>i64</td><td>str</td><td>str</td></tr></thead><tbody><tr><td>1</td><td>1</td><td>2</td><td>14022023</td><td>930</td><td>833</td><td>330270</td><td>10071954</td><td>468</td><td>1</td><td>4</td><td>1</td><td>2</td><td>1</td><td>715210</td><td>330190</td><td>3</td><td>null</td><td>330190</td><td>9</td><td>2</td><td>&quot;*R99X&quot;</td><td>&quot;*I10X&quot;</td><td>null</td><td>null</td><td>&quot;I10&quot;</td><td>14022023</td><td>20230018</td><td>23022023</td><td>5</td><td>&quot;S&quot;</td><td>&quot;S&quot;</td><td>&quot;3.2.30&quot;</td><td>3.4</td><td>27022023</td><td>&quot;R99/I10&quot;</td><td>27022023</td><td>13</td><td>10</td><td>0</td><td>1</td><td>13</td><td>&quot;I10&quot;</td><td>null</td></tr><tr><td>2</td><td>1</td><td>2</td><td>14022023</td><td>1730</td><td>822</td><td>221110</td><td>12091956</td><td>466</td><td>1</td><td>4</td><td>2</td><td>4</td><td>3</td><td>21210</td><td>221100</td><td>1</td><td>2323281</td><td>221100</td><td>1</td><td>2</td><td>&quot;*R578&quot;</td><td>&quot;*I619&quot;</td><td>&quot;*I678&quot;</td><td>null</td><td>&quot;I678&quot;</td><td>14022023</td><td>20230028</td><td>17022023</td><td>5</td><td>&quot;S&quot;</td><td>&quot;S&quot;</td><td>&quot;3.2.30&quot;</td><td>3.4</td><td>17022023</td><td>&quot;R578/I619/I678&quot;</td><td>17022023</td><td>3</td><td>12</td><td>0</td><td>1</td><td>3</td><td>&quot;I678&quot;</td><td>null</td></tr><tr><td>3</td><td>1</td><td>2</td><td>14022023</td><td>500</td><td>822</td><td>220790</td><td>10011953</td><td>470</td><td>2</td><td>null</td><td>3</td><td>9</td><td>9</td><td>999992</td><td>220790</td><td>1</td><td>2726971</td><td>221100</td><td>1</td><td>2</td><td>&quot;*A419&quot;</td><td>&quot;*K750&quot;</td><td>null</td><td>&quot;*E149*I10X&quot;</td><td>&quot;K750&quot;</td><td>14022023</td><td>20230028</td><td>17022023</td><td>5</td><td>&quot;S&quot;</td><td>&quot;S&quot;</td><td>&quot;3.2.30&quot;</td><td>3.4</td><td>17022023</td><td>&quot;A419/K750*E149 I10&quot;</td><td>17022023</td><td>3</td><td>9</td><td>0</td><td>1</td><td>3</td><td>&quot;K750&quot;</td><td>null</td></tr><tr><td>4</td><td>1</td><td>2</td><td>14022023</td><td>2235</td><td>823</td><td>231180</td><td>15121943</td><td>479</td><td>2</td><td>1</td><td>2</td><td>4</td><td>3</td><td>763010</td><td>230440</td><td>1</td><td>2497654</td><td>230440</td><td>1</td><td>2</td><td>&quot;*I611&quot;</td><td>null</td><td>null</td><td>&quot;*J189&quot;</td><td>&quot;I611&quot;</td><td>15022023</td><td>20230007</td><td>15022023</td><td>1</td><td>&quot;S&quot;</td><td>&quot;S&quot;</td><td>&quot;3.2.30&quot;</td><td>null</td><td>9032023</td><td>&quot;I611*J189&quot;</td><td>2032023</td><td>16</td><td>12</td><td>0</td><td>1</td><td>23</td><td>&quot;I64&quot;</td><td>&quot;S&quot;</td></tr><tr><td>5</td><td>1</td><td>2</td><td>14022023</td><td>940</td><td>841</td><td>411350</td><td>9041973</td><td>449</td><td>2</td><td>4</td><td>1</td><td>1</td><td>0</td><td>999992</td><td>510515</td><td>2</td><td>7050577</td><td>510515</td><td>1</td><td>2</td><td>&quot;*J960&quot;</td><td>&quot;*C189&quot;</td><td>null</td><td>null</td><td>&quot;C189&quot;</td><td>14022023</td><td>20240057</td><td>14022023</td><td>1</td><td>&quot;S&quot;</td><td>&quot;S&quot;</td><td>&quot;3.2.30&quot;</td><td>3.4</td><td>30102024</td><td>&quot;J960/C189&quot;</td><td>16022023</td><td>2</td><td>0</td><td>0</td><td>1</td><td>624</td><td>&quot;C189&quot;</td><td>&quot;S&quot;</td></tr><tr><td>&hellip;</td><td>&hellip;</td><td>&hellip;</td><td>&hellip;</td><td>&hellip;</td><td>&hellip;</td><td>&hellip;</td><td>&hellip;</td><td>&hellip;</td><td>&hellip;</td><td>&hellip;</td><td>&hellip;</td><td>&hellip;</td><td>&hellip;</td><td>&hellip;</td><td>&hellip;</td><td>&hellip;</td><td>&hellip;</td><td>&hellip;</td><td>&hellip;</td><td>&hellip;</td><td>&hellip;</td><td>&hellip;</td><td>&hellip;</td><td>&hellip;</td><td>&hellip;</td><td>&hellip;</td><td>&hellip;</td><td>&hellip;</td><td>&hellip;</td><td>&hellip;</td><td>&hellip;</td><td>&hellip;</td><td>&hellip;</td><td>&hellip;</td><td>&hellip;</td><td>&hellip;</td><td>&hellip;</td><td>&hellip;</td><td>&hellip;</td><td>&hellip;</td><td>&hellip;</td><td>&hellip;</td><td>&hellip;</td></tr><tr><td>1465606</td><td>1</td><td>2</td><td>30112023</td><td>2100</td><td>816</td><td>160050</td><td>1042023</td><td>307</td><td>1</td><td>5</td><td>null</td><td>null</td><td>null</td><td>null</td><td>160050</td><td>6</td><td>null</td><td>160050</td><td>2</td><td>2</td><td>&quot;*R99X&quot;</td><td>null</td><td>null</td><td>null</td><td>&quot;R99&quot;</td><td>1122023</td><td>null</td><td>8122023</td><td>1</td><td>&quot;N&quot;</td><td>&quot;N&quot;</td><td>&quot;2...0&quot;</td><td>null</td><td>null</td><td>&quot;R99&quot;</td><td>8122023</td><td>8</td><td>null</td><td>0</td><td>1</td><td>8</td><td>null</td><td>null</td></tr><tr><td>1465607</td><td>1</td><td>2</td><td>12122023</td><td>1220</td><td>815</td><td>150060</td><td>23101987</td><td>436</td><td>1</td><td>5</td><td>null</td><td>3</td><td>2</td><td>null</td><td>150060</td><td>3</td><td>null</td><td>150060</td><td>2</td><td>2</td><td>&quot;*R98X&quot;</td><td>null</td><td>null</td><td>null</td><td>&quot;R98&quot;</td><td>null</td><td>null</td><td>3012024</td><td>null</td><td>&quot;N&quot;</td><td>&quot;N&quot;</td><td>&quot;2...0&quot;</td><td>null</td><td>null</td><td>&quot;R98&quot;</td><td>3012024</td><td>22</td><td>11</td><td>0</td><td>1</td><td>22</td><td>null</td><td>null</td></tr><tr><td>1465608</td><td>1</td><td>2</td><td>22122023</td><td>1734</td><td>815</td><td>150060</td><td>5112023</td><td>301</td><td>1</td><td>5</td><td>null</td><td>null</td><td>null</td><td>null</td><td>150060</td><td>6</td><td>null</td><td>150060</td><td>2</td><td>2</td><td>&quot;*R98X&quot;</td><td>null</td><td>null</td><td>null</td><td>&quot;R98&quot;</td><td>null</td><td>null</td><td>3012024</td><td>null</td><td>&quot;N&quot;</td><td>&quot;N&quot;</td><td>&quot;2...0&quot;</td><td>null</td><td>null</td><td>&quot;R98&quot;</td><td>3012024</td><td>12</td><td>null</td><td>0</td><td>1</td><td>12</td><td>null</td><td>null</td></tr><tr><td>1465609</td><td>1</td><td>2</td><td>22122023</td><td>2030</td><td>813</td><td>130140</td><td>1012008</td><td>415</td><td>2</td><td>5</td><td>null</td><td>1</td><td>0</td><td>null</td><td>130140</td><td>6</td><td>null</td><td>130140</td><td>2</td><td>9</td><td>&quot;*X709&quot;</td><td>null</td><td>null</td><td>null</td><td>&quot;X709&quot;</td><td>28022024</td><td>null</td><td>17062024</td><td>5</td><td>&quot;N&quot;</td><td>&quot;N&quot;</td><td>&quot;2...0&quot;</td><td>null</td><td>null</td><td>&quot;X709&quot;</td><td>17062024</td><td>178</td><td>0</td><td>0</td><td>1</td><td>178</td><td>null</td><td>null</td></tr><tr><td>1465610</td><td>1</td><td>2</td><td>31122023</td><td>null</td><td>851</td><td>510385</td><td>17122023</td><td>214</td><td>2</td><td>5</td><td>null</td><td>null</td><td>null</td><td>null</td><td>510385</td><td>6</td><td>null</td><td>510385</td><td>2</td><td>2</td><td>&quot;*R95X&quot;</td><td>null</td><td>null</td><td>null</td><td>&quot;R95&quot;</td><td>8022024</td><td>null</td><td>22022024</td><td>1</td><td>&quot;N&quot;</td><td>&quot;N&quot;</td><td>&quot;2...0&quot;</td><td>null</td><td>null</td><td>&quot;R95&quot;</td><td>22022024</td><td>53</td><td>null</td><td>0</td><td>1</td><td>53</td><td>null</td><td>null</td></tr></tbody></table></div>"
      ],
      "text/plain": [
       "shape: (1_465_610, 44)\n",
       "┌──────────┬────────┬──────────┬──────────┬───┬──────────┬─────────┬────────────┬───────┐\n",
       "│ contador ┆ ORIGEM ┆ TIPOBITO ┆ DTOBITO  ┆ … ┆ STDONOVA ┆ DIFDATA ┆ CAUSABAS_O ┆ TPPOS │\n",
       "│ ---      ┆ ---    ┆ ---      ┆ ---      ┆   ┆ ---      ┆ ---     ┆ ---        ┆ ---   │\n",
       "│ i64      ┆ i64    ┆ i64      ┆ i64      ┆   ┆ i64      ┆ i64     ┆ str        ┆ str   │\n",
       "╞══════════╪════════╪══════════╪══════════╪═══╪══════════╪═════════╪════════════╪═══════╡\n",
       "│ 1        ┆ 1      ┆ 2        ┆ 14022023 ┆ … ┆ 1        ┆ 13      ┆ I10        ┆ null  │\n",
       "│ 2        ┆ 1      ┆ 2        ┆ 14022023 ┆ … ┆ 1        ┆ 3       ┆ I678       ┆ null  │\n",
       "│ 3        ┆ 1      ┆ 2        ┆ 14022023 ┆ … ┆ 1        ┆ 3       ┆ K750       ┆ null  │\n",
       "│ 4        ┆ 1      ┆ 2        ┆ 14022023 ┆ … ┆ 1        ┆ 23      ┆ I64        ┆ S     │\n",
       "│ 5        ┆ 1      ┆ 2        ┆ 14022023 ┆ … ┆ 1        ┆ 624     ┆ C189       ┆ S     │\n",
       "│ …        ┆ …      ┆ …        ┆ …        ┆ … ┆ …        ┆ …       ┆ …          ┆ …     │\n",
       "│ 1465606  ┆ 1      ┆ 2        ┆ 30112023 ┆ … ┆ 1        ┆ 8       ┆ null       ┆ null  │\n",
       "│ 1465607  ┆ 1      ┆ 2        ┆ 12122023 ┆ … ┆ 1        ┆ 22      ┆ null       ┆ null  │\n",
       "│ 1465608  ┆ 1      ┆ 2        ┆ 22122023 ┆ … ┆ 1        ┆ 12      ┆ null       ┆ null  │\n",
       "│ 1465609  ┆ 1      ┆ 2        ┆ 22122023 ┆ … ┆ 1        ┆ 178     ┆ null       ┆ null  │\n",
       "│ 1465610  ┆ 1      ┆ 2        ┆ 31122023 ┆ … ┆ 1        ┆ 53      ┆ null       ┆ null  │\n",
       "└──────────┴────────┴──────────┴──────────┴───┴──────────┴─────────┴────────────┴───────┘"
      ]
     },
     "execution_count": 5,
     "metadata": {},
     "output_type": "execute_result"
    }
   ],
   "source": [
    "# removendo as colunas que têm muitos dados nulos\n",
    "df = df.drop(lista_col)\n",
    "df"
   ]
  },
  {
   "cell_type": "markdown",
   "id": "1dfe982e",
   "metadata": {},
   "source": [
    "## <font color='gray'> Códigos CID\n",
    "\n",
    "Nesta etapa, vamaos selecionar apenas os CIDs relacionados a agressão.\n",
    "\n",
    "http://www2.datasus.gov.br/cid10/V2008/WebHelp/v01_y98.htm"
   ]
  },
  {
   "cell_type": "code",
   "execution_count": 6,
   "id": "2ec052d8-c672-4c90-ab2e-2aaebd66d118",
   "metadata": {},
   "outputs": [
    {
     "data": {
      "text/plain": [
       "{'X85',\n",
       " 'X86',\n",
       " 'X87',\n",
       " 'X88',\n",
       " 'X89',\n",
       " 'X90',\n",
       " 'X91',\n",
       " 'X92',\n",
       " 'X93',\n",
       " 'X94',\n",
       " 'X95',\n",
       " 'X96',\n",
       " 'X97',\n",
       " 'X98',\n",
       " 'X99',\n",
       " 'Y00',\n",
       " 'Y01',\n",
       " 'Y02',\n",
       " 'Y03',\n",
       " 'Y04',\n",
       " 'Y05',\n",
       " 'Y06',\n",
       " 'Y07',\n",
       " 'Y08',\n",
       " 'Y09'}"
      ]
     },
     "execution_count": 6,
     "metadata": {},
     "output_type": "execute_result"
    }
   ],
   "source": [
    "# Relação de CIDs\n",
    "codigos = [\n",
    "    f'X{i}' for i in range(85, 100)\n",
    "] + [\n",
    "    f'Y0{i}' for i in range(0, 10)\n",
    "]\n",
    "codigos = set(codigos)\n",
    "codigos"
   ]
  },
  {
   "cell_type": "code",
   "execution_count": 7,
   "id": "99ada9c9",
   "metadata": {},
   "outputs": [],
   "source": [
    "# Colunas que possuem CIDs \n",
    "cols_cid = [\n",
    "    'LINHAA',\n",
    "    'LINHAB',\n",
    "    'LINHAC',\n",
    "    'LINHAII',\n",
    "    'CAUSABAS',\n",
    "    'ATESTADO',\n",
    "    'CAUSABAS_O',\n",
    "]"
   ]
  },
  {
   "cell_type": "code",
   "execution_count": 8,
   "id": "afd5882d",
   "metadata": {},
   "outputs": [
    {
     "data": {
      "text/html": [
       "<div><style>\n",
       ".dataframe > thead > tr,\n",
       ".dataframe > tbody > tr {\n",
       "  text-align: right;\n",
       "  white-space: pre-wrap;\n",
       "}\n",
       "</style>\n",
       "<small>shape: (44_087, 44)</small><table border=\"1\" class=\"dataframe\"><thead><tr><th>contador</th><th>ORIGEM</th><th>TIPOBITO</th><th>DTOBITO</th><th>HORAOBITO</th><th>NATURAL</th><th>CODMUNNATU</th><th>DTNASC</th><th>IDADE</th><th>SEXO</th><th>RACACOR</th><th>ESTCIV</th><th>ESC</th><th>ESC2010</th><th>OCUP</th><th>CODMUNRES</th><th>LOCOCOR</th><th>CODESTAB</th><th>CODMUNOCOR</th><th>ASSISTMED</th><th>NECROPSIA</th><th>LINHAA</th><th>LINHAB</th><th>LINHAC</th><th>LINHAII</th><th>CAUSABAS</th><th>DTATESTADO</th><th>NUMEROLOTE</th><th>DTCADASTRO</th><th>ATESTANTE</th><th>STCODIFICA</th><th>CODIFICADO</th><th>VERSAOSIST</th><th>VERSAOSCB</th><th>DTRECEBIM</th><th>ATESTADO</th><th>DTRECORIGA</th><th>OPOR_DO</th><th>ESCFALAGR1</th><th>STDOEPIDEM</th><th>STDONOVA</th><th>DIFDATA</th><th>CAUSABAS_O</th><th>TPPOS</th></tr><tr><td>i64</td><td>i64</td><td>i64</td><td>i64</td><td>i64</td><td>i64</td><td>i64</td><td>i64</td><td>i64</td><td>i64</td><td>i64</td><td>i64</td><td>i64</td><td>i64</td><td>i64</td><td>i64</td><td>i64</td><td>i64</td><td>i64</td><td>i64</td><td>i64</td><td>str</td><td>str</td><td>str</td><td>str</td><td>str</td><td>i64</td><td>i64</td><td>i64</td><td>i64</td><td>str</td><td>str</td><td>str</td><td>f64</td><td>i64</td><td>str</td><td>i64</td><td>i64</td><td>i64</td><td>i64</td><td>i64</td><td>i64</td><td>str</td><td>str</td></tr></thead><tbody><tr><td>140</td><td>1</td><td>2</td><td>1012023</td><td>2123</td><td>823</td><td>230110</td><td>4081984</td><td>438</td><td>1</td><td>4</td><td>1</td><td>3</td><td>1</td><td>991315</td><td>230110</td><td>5</td><td>null</td><td>230110</td><td>1</td><td>1</td><td>&quot;*T794&quot;</td><td>&quot;*X954&quot;</td><td>null</td><td>null</td><td>&quot;X954&quot;</td><td>2012023</td><td>20230001</td><td>5012023</td><td>3</td><td>&quot;S&quot;</td><td>&quot;S&quot;</td><td>&quot;3.2.30&quot;</td><td>3.4</td><td>12012023</td><td>&quot;T794/X954&quot;</td><td>12012023</td><td>11</td><td>2</td><td>0</td><td>1</td><td>11</td><td>&quot;X954&quot;</td><td>null</td></tr><tr><td>173</td><td>1</td><td>2</td><td>1012023</td><td>1250</td><td>833</td><td>330170</td><td>2121957</td><td>465</td><td>2</td><td>4</td><td>1</td><td>3</td><td>2</td><td>512105</td><td>330455</td><td>1</td><td>2280183</td><td>330455</td><td>1</td><td>2</td><td>&quot;*T792&quot;</td><td>&quot;*S273*S269&quot;</td><td>&quot;*X959&quot;</td><td>null</td><td>&quot;X959&quot;</td><td>3012023</td><td>20240094</td><td>11012023</td><td>3</td><td>&quot;S&quot;</td><td>&quot;S&quot;</td><td>&quot;3.2.30&quot;</td><td>3.4</td><td>2072024</td><td>&quot;T792/S273 S269/X959&quot;</td><td>16012023</td><td>15</td><td>11</td><td>0</td><td>1</td><td>548</td><td>&quot;Y349&quot;</td><td>&quot;S&quot;</td></tr><tr><td>174</td><td>1</td><td>2</td><td>1012023</td><td>null</td><td>843</td><td>431680</td><td>14061993</td><td>429</td><td>1</td><td>1</td><td>1</td><td>4</td><td>2</td><td>null</td><td>430420</td><td>4</td><td>null</td><td>430420</td><td>2</td><td>1</td><td>&quot;*T145&quot;</td><td>&quot;*S368&quot;</td><td>null</td><td>null</td><td>&quot;X954&quot;</td><td>1012023</td><td>20230001</td><td>5012023</td><td>3</td><td>&quot;S&quot;</td><td>&quot;S&quot;</td><td>&quot;3.2.30&quot;</td><td>3.4</td><td>5012023</td><td>&quot;T145/S368/ /X954&quot;</td><td>5012023</td><td>4</td><td>4</td><td>0</td><td>1</td><td>4</td><td>&quot;X954&quot;</td><td>&quot;N&quot;</td></tr><tr><td>239</td><td>1</td><td>2</td><td>1012023</td><td>322</td><td>835</td><td>354390</td><td>14031980</td><td>442</td><td>1</td><td>1</td><td>2</td><td>3</td><td>2</td><td>724315</td><td>354390</td><td>4</td><td>null</td><td>354390</td><td>2</td><td>2</td><td>&quot;*T794&quot;</td><td>&quot;*X990&quot;</td><td>null</td><td>null</td><td>&quot;X990&quot;</td><td>1012023</td><td>20230005</td><td>9012023</td><td>3</td><td>&quot;S&quot;</td><td>&quot;S&quot;</td><td>&quot;3.2.30&quot;</td><td>3.4</td><td>11012023</td><td>&quot;T794/X990&quot;</td><td>11012023</td><td>10</td><td>3</td><td>0</td><td>1</td><td>10</td><td>&quot;X990&quot;</td><td>&quot;N&quot;</td></tr><tr><td>286</td><td>1</td><td>2</td><td>1012023</td><td>null</td><td>829</td><td>291080</td><td>4061996</td><td>426</td><td>1</td><td>4</td><td>1</td><td>4</td><td>3</td><td>null</td><td>330455</td><td>5</td><td>null</td><td>330455</td><td>2</td><td>1</td><td>&quot;*X958&quot;</td><td>&quot;*S318*S219*T792&quot;</td><td>null</td><td>null</td><td>&quot;X958&quot;</td><td>2012023</td><td>20230007</td><td>11012023</td><td>3</td><td>&quot;S&quot;</td><td>&quot;S&quot;</td><td>&quot;3.2.30&quot;</td><td>3.4</td><td>16012023</td><td>&quot;X958/S318 S219 T792&quot;</td><td>16012023</td><td>15</td><td>12</td><td>0</td><td>1</td><td>15</td><td>&quot;X958&quot;</td><td>&quot;N&quot;</td></tr><tr><td>&hellip;</td><td>&hellip;</td><td>&hellip;</td><td>&hellip;</td><td>&hellip;</td><td>&hellip;</td><td>&hellip;</td><td>&hellip;</td><td>&hellip;</td><td>&hellip;</td><td>&hellip;</td><td>&hellip;</td><td>&hellip;</td><td>&hellip;</td><td>&hellip;</td><td>&hellip;</td><td>&hellip;</td><td>&hellip;</td><td>&hellip;</td><td>&hellip;</td><td>&hellip;</td><td>&hellip;</td><td>&hellip;</td><td>&hellip;</td><td>&hellip;</td><td>&hellip;</td><td>&hellip;</td><td>&hellip;</td><td>&hellip;</td><td>&hellip;</td><td>&hellip;</td><td>&hellip;</td><td>&hellip;</td><td>&hellip;</td><td>&hellip;</td><td>&hellip;</td><td>&hellip;</td><td>&hellip;</td><td>&hellip;</td><td>&hellip;</td><td>&hellip;</td><td>&hellip;</td><td>&hellip;</td><td>&hellip;</td></tr><tr><td>1465467</td><td>2</td><td>2</td><td>10122023</td><td>1945</td><td>829</td><td>291840</td><td>8111978</td><td>445</td><td>1</td><td>4</td><td>1</td><td>1</td><td>0</td><td>621005</td><td>293077</td><td>5</td><td>null</td><td>293077</td><td>2</td><td>1</td><td>&quot;*T792&quot;</td><td>&quot;*S069&quot;</td><td>&quot;*X959&quot;</td><td>null</td><td>&quot;X959&quot;</td><td>11122023</td><td>20230047</td><td>14122023</td><td>3</td><td>&quot;S&quot;</td><td>&quot;S&quot;</td><td>&quot;3.2.30&quot;</td><td>3.4</td><td>null</td><td>&quot;T792/S069/X959&quot;</td><td>14122023</td><td>4</td><td>0</td><td>0</td><td>1</td><td>4</td><td>null</td><td>null</td></tr><tr><td>1465475</td><td>2</td><td>2</td><td>11122023</td><td>11</td><td>826</td><td>260300</td><td>20021995</td><td>428</td><td>1</td><td>4</td><td>9</td><td>2</td><td>1</td><td>715210</td><td>290720</td><td>5</td><td>null</td><td>290720</td><td>2</td><td>1</td><td>&quot;*T792&quot;</td><td>&quot;*S273*S269&quot;</td><td>&quot;*S361&quot;</td><td>null</td><td>&quot;X959&quot;</td><td>11122023</td><td>20230047</td><td>14122023</td><td>3</td><td>&quot;S&quot;</td><td>&quot;S&quot;</td><td>&quot;3.2.30&quot;</td><td>3.4</td><td>null</td><td>&quot;T792/S273 S269/S361/X959&quot;</td><td>14122023</td><td>3</td><td>10</td><td>0</td><td>1</td><td>3</td><td>null</td><td>null</td></tr><tr><td>1465478</td><td>2</td><td>2</td><td>11122023</td><td>116</td><td>826</td><td>261400</td><td>20121981</td><td>441</td><td>1</td><td>4</td><td>1</td><td>3</td><td>2</td><td>621005</td><td>290720</td><td>1</td><td>2388928</td><td>290720</td><td>1</td><td>1</td><td>&quot;*S068&quot;</td><td>&quot;*S069&quot;</td><td>&quot;*X959&quot;</td><td>null</td><td>&quot;X959&quot;</td><td>11122023</td><td>20230047</td><td>14122023</td><td>3</td><td>&quot;S&quot;</td><td>&quot;S&quot;</td><td>&quot;3.2.30&quot;</td><td>3.4</td><td>null</td><td>&quot;S068/S069/X959&quot;</td><td>14122023</td><td>3</td><td>11</td><td>0</td><td>1</td><td>3</td><td>null</td><td>null</td></tr><tr><td>1465479</td><td>2</td><td>2</td><td>11122023</td><td>11</td><td>829</td><td>291840</td><td>27081993</td><td>430</td><td>1</td><td>4</td><td>1</td><td>3</td><td>2</td><td>621005</td><td>290720</td><td>5</td><td>null</td><td>290720</td><td>2</td><td>1</td><td>&quot;*S068&quot;</td><td>&quot;*S069&quot;</td><td>&quot;*X959&quot;</td><td>null</td><td>&quot;X959&quot;</td><td>11122023</td><td>20230047</td><td>14122023</td><td>3</td><td>&quot;S&quot;</td><td>&quot;S&quot;</td><td>&quot;3.2.30&quot;</td><td>3.4</td><td>null</td><td>&quot;S068/S069/X959&quot;</td><td>14122023</td><td>3</td><td>11</td><td>0</td><td>1</td><td>3</td><td>null</td><td>null</td></tr><tr><td>1465505</td><td>2</td><td>2</td><td>12122023</td><td>2110</td><td>829</td><td>291840</td><td>22101991</td><td>432</td><td>1</td><td>4</td><td>1</td><td>2</td><td>1</td><td>715210</td><td>291840</td><td>4</td><td>null</td><td>291840</td><td>2</td><td>1</td><td>&quot;*S069&quot;</td><td>&quot;*X954&quot;</td><td>null</td><td>null</td><td>&quot;X954&quot;</td><td>13122023</td><td>20230048</td><td>19122023</td><td>3</td><td>&quot;S&quot;</td><td>&quot;S&quot;</td><td>&quot;3.2.30&quot;</td><td>3.4</td><td>null</td><td>&quot;S069/X954&quot;</td><td>19122023</td><td>7</td><td>10</td><td>0</td><td>1</td><td>7</td><td>null</td><td>null</td></tr></tbody></table></div>"
      ],
      "text/plain": [
       "shape: (44_087, 44)\n",
       "┌──────────┬────────┬──────────┬──────────┬───┬──────────┬─────────┬────────────┬───────┐\n",
       "│ contador ┆ ORIGEM ┆ TIPOBITO ┆ DTOBITO  ┆ … ┆ STDONOVA ┆ DIFDATA ┆ CAUSABAS_O ┆ TPPOS │\n",
       "│ ---      ┆ ---    ┆ ---      ┆ ---      ┆   ┆ ---      ┆ ---     ┆ ---        ┆ ---   │\n",
       "│ i64      ┆ i64    ┆ i64      ┆ i64      ┆   ┆ i64      ┆ i64     ┆ str        ┆ str   │\n",
       "╞══════════╪════════╪══════════╪══════════╪═══╪══════════╪═════════╪════════════╪═══════╡\n",
       "│ 140      ┆ 1      ┆ 2        ┆ 1012023  ┆ … ┆ 1        ┆ 11      ┆ X954       ┆ null  │\n",
       "│ 173      ┆ 1      ┆ 2        ┆ 1012023  ┆ … ┆ 1        ┆ 548     ┆ Y349       ┆ S     │\n",
       "│ 174      ┆ 1      ┆ 2        ┆ 1012023  ┆ … ┆ 1        ┆ 4       ┆ X954       ┆ N     │\n",
       "│ 239      ┆ 1      ┆ 2        ┆ 1012023  ┆ … ┆ 1        ┆ 10      ┆ X990       ┆ N     │\n",
       "│ 286      ┆ 1      ┆ 2        ┆ 1012023  ┆ … ┆ 1        ┆ 15      ┆ X958       ┆ N     │\n",
       "│ …        ┆ …      ┆ …        ┆ …        ┆ … ┆ …        ┆ …       ┆ …          ┆ …     │\n",
       "│ 1465467  ┆ 2      ┆ 2        ┆ 10122023 ┆ … ┆ 1        ┆ 4       ┆ null       ┆ null  │\n",
       "│ 1465475  ┆ 2      ┆ 2        ┆ 11122023 ┆ … ┆ 1        ┆ 3       ┆ null       ┆ null  │\n",
       "│ 1465478  ┆ 2      ┆ 2        ┆ 11122023 ┆ … ┆ 1        ┆ 3       ┆ null       ┆ null  │\n",
       "│ 1465479  ┆ 2      ┆ 2        ┆ 11122023 ┆ … ┆ 1        ┆ 3       ┆ null       ┆ null  │\n",
       "│ 1465505  ┆ 2      ┆ 2        ┆ 12122023 ┆ … ┆ 1        ┆ 7       ┆ null       ┆ null  │\n",
       "└──────────┴────────┴──────────┴──────────┴───┴──────────┴─────────┴────────────┴───────┘"
      ]
     },
     "execution_count": 8,
     "metadata": {},
     "output_type": "execute_result"
    }
   ],
   "source": [
    "# Aqui vamos selecionar apenas as linhas que contém CIDs relacionados a lista que criamos\n",
    "# Criar uma condição combinada com OR (|) para cada código em cada coluna\n",
    "condicoes = []\n",
    "for col in cols_cid:\n",
    "    for cod in codigos:\n",
    "        condicoes.append(pl.col(col).is_not_null() & pl.col(col).cast(pl.Utf8).str.contains(cod))\n",
    "\n",
    "# Combinar todas as condições com OR\n",
    "condicao_final = pl.any_horizontal(*condicoes)\n",
    "\n",
    "# Aplicar o filtro\n",
    "df_trat = df.filter(condicao_final)\n",
    "df_trat"
   ]
  },
  {
   "cell_type": "code",
   "execution_count": 9,
   "id": "f44a1dc4",
   "metadata": {},
   "outputs": [
    {
     "data": {
      "text/html": [
       "<div><style>\n",
       ".dataframe > thead > tr,\n",
       ".dataframe > tbody > tr {\n",
       "  text-align: right;\n",
       "  white-space: pre-wrap;\n",
       "}\n",
       "</style>\n",
       "<small>shape: (3, 2)</small><table border=\"1\" class=\"dataframe\"><thead><tr><th>SEXO</th><th>count</th></tr><tr><td>i64</td><td>u32</td></tr></thead><tbody><tr><td>2</td><td>3945</td></tr><tr><td>0</td><td>97</td></tr><tr><td>1</td><td>40045</td></tr></tbody></table></div>"
      ],
      "text/plain": [
       "shape: (3, 2)\n",
       "┌──────┬───────┐\n",
       "│ SEXO ┆ count │\n",
       "│ ---  ┆ ---   │\n",
       "│ i64  ┆ u32   │\n",
       "╞══════╪═══════╡\n",
       "│ 2    ┆ 3945  │\n",
       "│ 0    ┆ 97    │\n",
       "│ 1    ┆ 40045 │\n",
       "└──────┴───────┘"
      ]
     },
     "execution_count": 9,
     "metadata": {},
     "output_type": "execute_result"
    }
   ],
   "source": [
    "# distribuicao por sexo\n",
    "df_trat['SEXO'].value_counts()"
   ]
  }
 ],
 "metadata": {
  "kernelspec": {
   "display_name": ".venv",
   "language": "python",
   "name": "python3"
  },
  "language_info": {
   "codemirror_mode": {
    "name": "ipython",
    "version": 3
   },
   "file_extension": ".py",
   "mimetype": "text/x-python",
   "name": "python",
   "nbconvert_exporter": "python",
   "pygments_lexer": "ipython3",
   "version": "3.12.1"
  }
 },
 "nbformat": 4,
 "nbformat_minor": 5
}
