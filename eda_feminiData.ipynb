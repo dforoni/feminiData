{
 "cells": [
  {
   "cell_type": "markdown",
   "id": "042a8e7a",
   "metadata": {},
   "source": [
    "# <font color='gray'> Bibliotecas necessárias\n",
    "---"
   ]
  },
  {
   "cell_type": "code",
   "execution_count": null,
   "id": "11057064-c2b0-458b-97e9-902512afdb80",
   "metadata": {},
   "outputs": [],
   "source": [
    "import requests\n",
    "from io import BytesIO\n",
    "import polars as pl\n",
    "import pandas as pd"
   ]
  },
  {
   "cell_type": "markdown",
   "id": "c257317e",
   "metadata": {},
   "source": [
    "# <font color='gray'> Carregando os dados\n",
    "----\n",
    "\n",
    "Este projeto utiliza dados do Sistema de Informações sobre Mortalidade (SIM) do [SIM - DataSUS](https://opendatasus.saude.gov.br/pt_BR/dataset/sim), disponível no OpenDataSUS. O SIM é a principal base de dados de óbitos no Brasil e reúne informações detalhadas sobre mortes registradas no país, incluindo causa básica do óbito, características da vítima e circunstâncias da morte.\n",
    "\n",
    "Iniciamos as análises com dados de 2023."
   ]
  },
  {
   "cell_type": "code",
   "execution_count": null,
   "id": "ae146bb8",
   "metadata": {},
   "outputs": [],
   "source": [
    "# URL do arquivo CSV\n",
    "url = \"https://s3.sa-east-1.amazonaws.com/ckan.saude.gov.br/SIM/DO23OPEN.csv\"\n",
    "\n",
    "# Faz o download do arquivo\n",
    "response = requests.get(url)\n",
    "response.raise_for_status()  # Garante que a requisição foi bem-sucedida\n",
    "\n",
    "# Carrega o CSV diretamente para o Polars\n",
    "df = pl.read_csv(\n",
    "    BytesIO(response.content),\n",
    "    separator=\";\",  # Define o delimitador correto\n",
    "    quote_char='\"',  # Considera aspas como parte do valor\n",
    "    encoding=\"utf8\",\n",
    "    ignore_errors=True  # Ignora linhas problemáticas (opcional)\n",
    ")\n",
    "print(f\"Linhas: {df.height}, Colunas: {df.width}\")\n"
   ]
  },
  {
   "cell_type": "code",
   "execution_count": null,
   "id": "62327fd2",
   "metadata": {},
   "outputs": [],
   "source": [
    "# dados \n",
    "df"
   ]
  },
  {
   "cell_type": "code",
   "execution_count": null,
   "id": "b35fe40d",
   "metadata": {},
   "outputs": [],
   "source": [
    "# Calculando a porcentagem de nulos por coluna\n",
    "perc_nulos = (df.null_count() / df.height) * 100\n",
    "\n",
    "# Transpondo as colunas para linhas (usando melt para reestruturar)\n",
    "perc_nulos_transposto = perc_nulos.melt()\n",
    "\n",
    "# Exibindo as colunas que contém dados nulos a partir de 60%\n",
    "lista_col = perc_nulos_transposto.filter(pl.col('value') > 60)[\"variable\"].to_list()\n",
    "lista_col"
   ]
  },
  {
   "cell_type": "markdown",
   "id": "fa3b1767",
   "metadata": {},
   "source": [
    "# <font color='gray'> Análise Exploratória dos Dados\n",
    "---"
   ]
  },
  {
   "cell_type": "code",
   "execution_count": null,
   "id": "1d8722ab-a9dc-424e-88ba-2585ae45b721",
   "metadata": {},
   "outputs": [],
   "source": [
    "deletar = \"\"\"\n",
    " 14  SERIESCFAL  404622 non-null   object\n",
    " 20  IDADEMAE    29183 non-null    object\n",
    " 21  ESCMAE      28950 non-null    object\n",
    " 22  ESCMAE2010  28820 non-null    object\n",
    " 23  SERIESCMAE  12375 non-null    object\n",
    " 24  OCUPMAE     25908 non-null    object\n",
    " 25  QTDFILVIVO  29164 non-null    object\n",
    " 26  QTDFILMORT  28333 non-null    object\n",
    " 27  GRAVIDEZ    29909 non-null    object\n",
    " 28  SEMAGESTAC  28698 non-null    object\n",
    " 29  GESTACAO    28698 non-null    object\n",
    " 30  PARTO       29785 non-null    object\n",
    " 31  OBITOPARTO  29545 non-null    object\n",
    " 32  PESO        28705 non-null    object\n",
    " 33  TPMORTEOCO  87151 non-null    object\n",
    " 34  OBITOGRAV   87679 non-null    object\n",
    " 35  OBITOPUERP  87662 non-null    object\n",
    " 37  EXAME       4106 non-null     object\n",
    " 38  CIRURGIA    3949 non-null     object\n",
    " 46  CB_PRE      0 non-null        object\n",
    " 47  COMUNSVOIM  257792 non-null   object\n",
    " 49  CIRCOBITO   153897 non-null   object\n",
    " 50  ACIDTRAB    51838 non-null    object\n",
    " 51  FONTE       126366 non-null   object\n",
    " 53  DTINVESTIG  242831 non-null   object\n",
    " 60  FONTEINV    245325 non-null   object\n",
    " 65  CAUSAMAT    25 non-null       object\n",
    " 66  ESCMAEAGR1  28820 non-null    object\n",
    " 71  NUDIASOBCO  60100 non-null    object\n",
    " 72  DTCADINV    60520 non-null    object\n",
    " 73  TPOBITOCOR  60520 non-null    object\n",
    " 74  DTCONINV    60032 non-null    object\n",
    " 75  FONTES      29861 non-null    object\n",
    " 76  TPRESGINFO  2629 non-null     object\n",
    " 77  TPNIVELINV  60588 non-null    object\n",
    " 78  DTCADINF    29861 non-null    object\n",
    " 79  MORTEPARTO  29861 non-null    object\n",
    " 80  DTCONCASO   27375 non-null    object\n",
    " 81  ALTCAUSA    28851 non-null    object\n",
    " 39  CAUSAMAT    25 non-null       object\n",
    " 40  ESCMAEAGR1  28820 non-null    object\n",
    " 45  NUDIASOBCO  60100 non-null    object\n",
    " 46  DTCADINV    60520 non-null    object\n",
    " 47  TPOBITOCOR  60520 non-null    object\n",
    " 48  DTCONINV    60032 non-null    object\n",
    " 49  FONTES      29861 non-null    object\n",
    " 50  TPRESGINFO  2629 non-null     object\n",
    " 51  TPNIVELINV  60588 non-null    object\n",
    " 52  DTCADINF    29861 non-null    object\n",
    " 53  MORTEPARTO  29861 non-null    object\n",
    " 54  DTCONCASO   27375 non-null    object\n",
    " 55  ALTCAUSA    28851 non-null    object\n",
    " 57  TPPOS       947635 non-null   object\n",
    " 58  TP_ALTERA   5161 non-null     object\n",
    " 59  CB_ALT      4741 non-null     object\n",
    "\"\"\"\n",
    "deletar = {li.strip().split()[1].strip() for li in deletar.split('\\n') if li.strip() != ''}"
   ]
  },
  {
   "cell_type": "code",
   "execution_count": null,
   "id": "828bec01-8aa4-406e-9e2d-55146fbead24",
   "metadata": {},
   "outputs": [],
   "source": [
    "for col in deletar:\n",
    "    # print(col)\n",
    "    try:\n",
    "        df.drop(col, inplace=True, axis=1)\n",
    "    except KeyError:\n",
    "        pass"
   ]
  },
  {
   "cell_type": "code",
   "execution_count": null,
   "id": "5f4a757b-cb7e-4111-9ab4-1f97d5222880",
   "metadata": {},
   "outputs": [],
   "source": [
    "deletar2 = [\n",
    "    'NUMEROLOTE',\n",
    "    'ORIGEM',\n",
    "    'contador',\n",
    "    'TIPOBITO',\n",
    "    'NATURAL',\n",
    "    'CODMUNNATU',\n",
    "    'IDADE',\n",
    "    'CODESTAB',\n",
    "    'DTATESTADO',\n",
    "    'DTCADASTRO',\n",
    "    'ATESTANTE',\n",
    "    'STCODIFICA',\n",
    "    'CODIFICADO',\n",
    "    'VERSAOSIST',\n",
    "    'VERSAOSCB',\n",
    "    'DTRECEBIM',\n",
    "    'DTRECORIGA',\n",
    "    'OPOR_DO',\n",
    "    'ESCFALAGR1',\n",
    "    'STDOEPIDEM',\n",
    "    'STDONOVA',\n",
    "    'DIFDATA',\n",
    "]"
   ]
  },
  {
   "cell_type": "code",
   "execution_count": null,
   "id": "d4b0cf13-a6e5-403a-a300-121eebbe7249",
   "metadata": {},
   "outputs": [],
   "source": [
    "for col in deletar2:\n",
    "    # print(col)\n",
    "    try:\n",
    "        df.drop(col, inplace=True, axis=1)\n",
    "    except KeyError:\n",
    "        pass"
   ]
  },
  {
   "cell_type": "code",
   "execution_count": null,
   "id": "a28c3179-217e-423e-98a4-09dea1d91fa9",
   "metadata": {},
   "outputs": [],
   "source": [
    "df.info()"
   ]
  },
  {
   "cell_type": "code",
   "execution_count": null,
   "id": "2ec052d8-c672-4c90-ab2e-2aaebd66d118",
   "metadata": {},
   "outputs": [],
   "source": [
    "codigos = [\n",
    "    f'X{i}' for i in range(85, 100)\n",
    "] + [\n",
    "    f'Y0{i}' for i in range(0, 10)\n",
    "]\n",
    "codigos = set(codigos)\n",
    "codigos"
   ]
  },
  {
   "cell_type": "code",
   "execution_count": null,
   "id": "ad87373c-a79a-4a42-929d-7ea83609c189",
   "metadata": {},
   "outputs": [],
   "source": [
    "# incluir coluna para estado\n",
    "# incluir coluna para cidade\n",
    "# transformar datas para formato iso"
   ]
  },
  {
   "cell_type": "code",
   "execution_count": null,
   "id": "0cdaf304-b2e4-448f-87b0-9e91585f4145",
   "metadata": {},
   "outputs": [],
   "source": [
    "cols_cid = [\n",
    "    'LINHAA',\n",
    "    'LINHAB',\n",
    "    'LINHAC',\n",
    "    'LINHAD',\n",
    "    'LINHAII',\n",
    "    'CAUSABAS',\n",
    "    'ATESTADO',\n",
    "    'CAUSABAS_O',\n",
    "]\n",
    "tem = lambda colunas: any(((col is not None) and (cod in col)) for col in colunas for cod in codigos)\n",
    "df2 = df[df[cols_cid].apply(tem, axis=1)]"
   ]
  },
  {
   "cell_type": "code",
   "execution_count": null,
   "id": "98aaffaa-6c91-45fc-8cd0-c49e5a784bf0",
   "metadata": {},
   "outputs": [],
   "source": [
    "df2.SEXO.value_counts()"
   ]
  }
 ],
 "metadata": {
  "kernelspec": {
   "display_name": ".venv",
   "language": "python",
   "name": "python3"
  },
  "language_info": {
   "codemirror_mode": {
    "name": "ipython",
    "version": 3
   },
   "file_extension": ".py",
   "mimetype": "text/x-python",
   "name": "python",
   "nbconvert_exporter": "python",
   "pygments_lexer": "ipython3",
   "version": "3.12.1"
  }
 },
 "nbformat": 4,
 "nbformat_minor": 5
}
