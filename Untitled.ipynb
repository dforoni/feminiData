{
 "cells": [
  {
   "cell_type": "code",
   "execution_count": 1,
   "id": "11057064-c2b0-458b-97e9-902512afdb80",
   "metadata": {},
   "outputs": [],
   "source": [
    "import json"
   ]
  },
  {
   "cell_type": "code",
   "execution_count": 19,
   "id": "7b12a113-fa75-4d64-80bc-023677b82f14",
   "metadata": {},
   "outputs": [],
   "source": [
    "import pandas as pd"
   ]
  },
  {
   "cell_type": "code",
   "execution_count": 36,
   "id": "0aca877b-d16d-42fd-892e-3cfd96b083e4",
   "metadata": {},
   "outputs": [],
   "source": [
    "files = [\n",
    "    'DO23OPEN_00001.json',\n",
    "    'DO23OPEN_00002.json',\n",
    "    'DO23OPEN_00003.json',\n",
    "    'DO23OPEN_00004.json',\n",
    "    'DO23OPEN_00005.json',\n",
    "    'DO23OPEN_00006.json',\n",
    "    'DO23OPEN_00007.json',\n",
    "    'DO23OPEN_00008.json',\n",
    "]"
   ]
  },
  {
   "cell_type": "code",
   "execution_count": 37,
   "id": "a4c5bb1c-eb76-4923-8020-aa6d86efd510",
   "metadata": {},
   "outputs": [],
   "source": [
    "df = [pd.DataFrame(json.loads(open(file).read())) for file in files]"
   ]
  },
  {
   "cell_type": "markdown",
   "id": "08ebda9b",
   "metadata": {},
   "source": [
    "https://opendatasus.saude.gov.br/pt_BR/dataset/sim"
   ]
  },
  {
   "cell_type": "code",
   "execution_count": null,
   "id": "bc4d95d5",
   "metadata": {},
   "outputs": [],
   "source": []
  },
  {
   "cell_type": "code",
   "execution_count": 39,
   "id": "566a4b2f-9fd8-4056-9df7-1f3beb38dc1f",
   "metadata": {},
   "outputs": [],
   "source": [
    "df = pd.concat(df)"
   ]
  },
  {
   "cell_type": "code",
   "execution_count": 51,
   "id": "1d8722ab-a9dc-424e-88ba-2585ae45b721",
   "metadata": {},
   "outputs": [],
   "source": [
    "deletar = \"\"\"\n",
    " 14  SERIESCFAL  404622 non-null   object\n",
    " 20  IDADEMAE    29183 non-null    object\n",
    " 21  ESCMAE      28950 non-null    object\n",
    " 22  ESCMAE2010  28820 non-null    object\n",
    " 23  SERIESCMAE  12375 non-null    object\n",
    " 24  OCUPMAE     25908 non-null    object\n",
    " 25  QTDFILVIVO  29164 non-null    object\n",
    " 26  QTDFILMORT  28333 non-null    object\n",
    " 27  GRAVIDEZ    29909 non-null    object\n",
    " 28  SEMAGESTAC  28698 non-null    object\n",
    " 29  GESTACAO    28698 non-null    object\n",
    " 30  PARTO       29785 non-null    object\n",
    " 31  OBITOPARTO  29545 non-null    object\n",
    " 32  PESO        28705 non-null    object\n",
    " 33  TPMORTEOCO  87151 non-null    object\n",
    " 34  OBITOGRAV   87679 non-null    object\n",
    " 35  OBITOPUERP  87662 non-null    object\n",
    " 37  EXAME       4106 non-null     object\n",
    " 38  CIRURGIA    3949 non-null     object\n",
    " 46  CB_PRE      0 non-null        object\n",
    " 47  COMUNSVOIM  257792 non-null   object\n",
    " 49  CIRCOBITO   153897 non-null   object\n",
    " 50  ACIDTRAB    51838 non-null    object\n",
    " 51  FONTE       126366 non-null   object\n",
    " 53  DTINVESTIG  242831 non-null   object\n",
    " 60  FONTEINV    245325 non-null   object\n",
    " 65  CAUSAMAT    25 non-null       object\n",
    " 66  ESCMAEAGR1  28820 non-null    object\n",
    " 71  NUDIASOBCO  60100 non-null    object\n",
    " 72  DTCADINV    60520 non-null    object\n",
    " 73  TPOBITOCOR  60520 non-null    object\n",
    " 74  DTCONINV    60032 non-null    object\n",
    " 75  FONTES      29861 non-null    object\n",
    " 76  TPRESGINFO  2629 non-null     object\n",
    " 77  TPNIVELINV  60588 non-null    object\n",
    " 78  DTCADINF    29861 non-null    object\n",
    " 79  MORTEPARTO  29861 non-null    object\n",
    " 80  DTCONCASO   27375 non-null    object\n",
    " 81  ALTCAUSA    28851 non-null    object\n",
    " 39  CAUSAMAT    25 non-null       object\n",
    " 40  ESCMAEAGR1  28820 non-null    object\n",
    " 45  NUDIASOBCO  60100 non-null    object\n",
    " 46  DTCADINV    60520 non-null    object\n",
    " 47  TPOBITOCOR  60520 non-null    object\n",
    " 48  DTCONINV    60032 non-null    object\n",
    " 49  FONTES      29861 non-null    object\n",
    " 50  TPRESGINFO  2629 non-null     object\n",
    " 51  TPNIVELINV  60588 non-null    object\n",
    " 52  DTCADINF    29861 non-null    object\n",
    " 53  MORTEPARTO  29861 non-null    object\n",
    " 54  DTCONCASO   27375 non-null    object\n",
    " 55  ALTCAUSA    28851 non-null    object\n",
    " 57  TPPOS       947635 non-null   object\n",
    " 58  TP_ALTERA   5161 non-null     object\n",
    " 59  CB_ALT      4741 non-null     object\n",
    "\"\"\"\n",
    "deletar = {li.strip().split()[1].strip() for li in deletar.split('\\n') if li.strip() != ''}"
   ]
  },
  {
   "cell_type": "code",
   "execution_count": 60,
   "id": "828bec01-8aa4-406e-9e2d-55146fbead24",
   "metadata": {},
   "outputs": [],
   "source": [
    "for col in deletar:\n",
    "    # print(col)\n",
    "    try:\n",
    "        df.drop(col, inplace=True, axis=1)\n",
    "    except KeyError:\n",
    "        pass"
   ]
  },
  {
   "cell_type": "code",
   "execution_count": 74,
   "id": "5f4a757b-cb7e-4111-9ab4-1f97d5222880",
   "metadata": {},
   "outputs": [],
   "source": [
    "deletar2 = [\n",
    "    'NUMEROLOTE',\n",
    "    'ORIGEM',\n",
    "    'contador',\n",
    "    'TIPOBITO',\n",
    "    'NATURAL',\n",
    "    'CODMUNNATU',\n",
    "    'IDADE',\n",
    "    'CODESTAB',\n",
    "    'DTATESTADO',\n",
    "    'DTCADASTRO',\n",
    "    'ATESTANTE',\n",
    "    'STCODIFICA',\n",
    "    'CODIFICADO',\n",
    "    'VERSAOSIST',\n",
    "    'VERSAOSCB',\n",
    "    'DTRECEBIM',\n",
    "    'DTRECORIGA',\n",
    "    'OPOR_DO',\n",
    "    'ESCFALAGR1',\n",
    "    'STDOEPIDEM',\n",
    "    'STDONOVA',\n",
    "    'DIFDATA',\n",
    "]"
   ]
  },
  {
   "cell_type": "code",
   "execution_count": 75,
   "id": "d4b0cf13-a6e5-403a-a300-121eebbe7249",
   "metadata": {},
   "outputs": [],
   "source": [
    "for col in deletar2:\n",
    "    # print(col)\n",
    "    try:\n",
    "        df.drop(col, inplace=True, axis=1)\n",
    "    except KeyError:\n",
    "        pass"
   ]
  },
  {
   "cell_type": "code",
   "execution_count": 76,
   "id": "a28c3179-217e-423e-98a4-09dea1d91fa9",
   "metadata": {},
   "outputs": [
    {
     "name": "stdout",
     "output_type": "stream",
     "text": [
      "<class 'pandas.core.frame.DataFrame'>\n",
      "Index: 1465610 entries, 0 to 65609\n",
      "Data columns (total 22 columns):\n",
      " #   Column      Non-Null Count    Dtype \n",
      "---  ------      --------------    ----- \n",
      " 0   DTOBITO     1465610 non-null  object\n",
      " 1   HORAOBITO   1416392 non-null  object\n",
      " 2   DTNASC      1462816 non-null  object\n",
      " 3   SEXO        1465610 non-null  object\n",
      " 4   RACACOR     1442526 non-null  object\n",
      " 5   ESTCIV      1399251 non-null  object\n",
      " 6   ESC         1375905 non-null  object\n",
      " 7   ESC2010     1367238 non-null  object\n",
      " 8   OCUP        1263542 non-null  object\n",
      " 9   CODMUNRES   1465610 non-null  object\n",
      " 10  LOCOCOR     1465610 non-null  object\n",
      " 11  CODMUNOCOR  1465610 non-null  object\n",
      " 12  ASSISTMED   1020765 non-null  object\n",
      " 13  NECROPSIA   1047269 non-null  object\n",
      " 14  LINHAA      1421060 non-null  object\n",
      " 15  LINHAB      1118038 non-null  object\n",
      " 16  LINHAC      688554 non-null   object\n",
      " 17  LINHAD      291456 non-null   object\n",
      " 18  LINHAII     630076 non-null   object\n",
      " 19  CAUSABAS    1465610 non-null  object\n",
      " 20  ATESTADO    1465610 non-null  object\n",
      " 21  CAUSABAS_O  1464573 non-null  object\n",
      "dtypes: object(22)\n",
      "memory usage: 289.4+ MB\n"
     ]
    }
   ],
   "source": [
    "df.info()"
   ]
  },
  {
   "cell_type": "code",
   "execution_count": 78,
   "id": "2ec052d8-c672-4c90-ab2e-2aaebd66d118",
   "metadata": {},
   "outputs": [
    {
     "data": {
      "text/plain": [
       "{'X85',\n",
       " 'X86',\n",
       " 'X87',\n",
       " 'X88',\n",
       " 'X89',\n",
       " 'X90',\n",
       " 'X91',\n",
       " 'X92',\n",
       " 'X93',\n",
       " 'X94',\n",
       " 'X95',\n",
       " 'X96',\n",
       " 'X97',\n",
       " 'X98',\n",
       " 'X99',\n",
       " 'Y00',\n",
       " 'Y01',\n",
       " 'Y02',\n",
       " 'Y03',\n",
       " 'Y04',\n",
       " 'Y05',\n",
       " 'Y06',\n",
       " 'Y07',\n",
       " 'Y08',\n",
       " 'Y09'}"
      ]
     },
     "execution_count": 78,
     "metadata": {},
     "output_type": "execute_result"
    }
   ],
   "source": [
    "codigos = [\n",
    "    f'X{i}' for i in range(85, 100)\n",
    "] + [\n",
    "    f'Y0{i}' for i in range(0, 10)\n",
    "]\n",
    "codigos = set(codigos)\n",
    "codigos"
   ]
  },
  {
   "cell_type": "code",
   "execution_count": null,
   "id": "ad87373c-a79a-4a42-929d-7ea83609c189",
   "metadata": {},
   "outputs": [],
   "source": [
    "# incluir coluna para estado\n",
    "# incluir coluna para cidade\n",
    "# transformar datas para formato iso"
   ]
  },
  {
   "cell_type": "code",
   "execution_count": 90,
   "id": "0cdaf304-b2e4-448f-87b0-9e91585f4145",
   "metadata": {},
   "outputs": [],
   "source": [
    "cols_cid = [\n",
    "    'LINHAA',\n",
    "    'LINHAB',\n",
    "    'LINHAC',\n",
    "    'LINHAD',\n",
    "    'LINHAII',\n",
    "    'CAUSABAS',\n",
    "    'ATESTADO',\n",
    "    'CAUSABAS_O',\n",
    "]\n",
    "tem = lambda colunas: any(((col is not None) and (cod in col)) for col in colunas for cod in codigos)\n",
    "df2 = df[df[cols_cid].apply(tem, axis=1)]"
   ]
  },
  {
   "cell_type": "code",
   "execution_count": 94,
   "id": "98aaffaa-6c91-45fc-8cd0-c49e5a784bf0",
   "metadata": {},
   "outputs": [
    {
     "data": {
      "text/plain": [
       "SEXO\n",
       "1    40045\n",
       "2     3945\n",
       "0       97\n",
       "Name: count, dtype: int64"
      ]
     },
     "execution_count": 94,
     "metadata": {},
     "output_type": "execute_result"
    }
   ],
   "source": [
    "df2.SEXO.value_counts()"
   ]
  }
 ],
 "metadata": {
  "kernelspec": {
   "display_name": "Python 3 (ipykernel)",
   "language": "python",
   "name": "python3"
  },
  "language_info": {
   "codemirror_mode": {
    "name": "ipython",
    "version": 3
   },
   "file_extension": ".py",
   "mimetype": "text/x-python",
   "name": "python",
   "nbconvert_exporter": "python",
   "pygments_lexer": "ipython3",
   "version": "3.13.2"
  }
 },
 "nbformat": 4,
 "nbformat_minor": 5
}
